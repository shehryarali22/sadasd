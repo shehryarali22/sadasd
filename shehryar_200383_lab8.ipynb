{
 "cells": [
  {
   "cell_type": "code",
   "execution_count": null,
   "id": "9b6bbd16",
   "metadata": {},
   "outputs": [],
   "source": [
    "b=0\n",
    "p=0\n",
    "pp=0\n",
    "penalty=0\n",
    "b=float(input(\"Enter Billing Amount :\"))\n",
    "p=float(input(\"Enter Payment :\"))\n",
    "\n",
    "balance=b-p\n",
    "if(balance != 0):\n",
    "    pp=p/b\n",
    "else:\n",
    "    pp=1.0\n",
    "\n",
    "if(pp==1.0):\n",
    "    credit=b * 0.01\n",
    "    if(credit > 10.0):\n",
    "        credit=10.0\n",
    "elif(pp >= 0.50):\n",
    "    penalty=b * 0.05\n",
    "elif(pp >=0.20 and pp < 0.50):\n",
    "    penalty=b * 0.10\n",
    "else:\n",
    "    penalty=b * 0.20\n",
    "\n",
    "if(penalty !=0):\n",
    "    print(\"Remaining bill = \"+str(balance))\n",
    "    print(\"Penalty = \"+ str(penalty))\n",
    "\n",
    "else:\n",
    "    print(\"Thank you paying full amount\")\n",
    "    print(\"You will recieve credit=\"+str(credit)+(\" on your next bill\"))\n"
   ]
  },
  {
   "cell_type": "code",
   "execution_count": null,
   "id": "9875ea81",
   "metadata": {},
   "outputs": [],
   "source": [
    "list=[5,20,15,20,25,50,20]\n",
    "\n",
    "for i in list:\n",
    "    if i==20:\n",
    "        list.remove(i)\n",
    "print(list)"
   ]
  },
  {
   "cell_type": "code",
   "execution_count": null,
   "id": "0738d773",
   "metadata": {},
   "outputs": [],
   "source": [
    "list=[5,20,15,20,25,50,20]\n",
    "\n",
    "for i in range(len(list)):\n",
    "    if list[i]==20:\n",
    "        list[i]=200\n",
    "    break\n",
    "print(list)\n"
   ]
  },
  {
   "cell_type": "code",
   "execution_count": null,
   "id": "15f7c54e",
   "metadata": {},
   "outputs": [],
   "source": [
    "tup = ('Mon','Mon','Mon','Mon')\n",
    "result = tup.count(tup[0]) == len(tup)\n",
    "\n",
    "if (result):\n",
    "    print(\"All the elements are Equal\")\n",
    "else:\n",
    "    print(\"Elements are not equal\")\n"
   ]
  },
  {
   "cell_type": "code",
   "execution_count": null,
   "id": "e712f218",
   "metadata": {},
   "outputs": [],
   "source": [
    "\n"
   ]
  },
  {
   "cell_type": "code",
   "execution_count": null,
   "id": "76c51a2a",
   "metadata": {},
   "outputs": [],
   "source": []
  }
 ],
 "metadata": {
  "kernelspec": {
   "display_name": "Python 3 (ipykernel)",
   "language": "python",
   "name": "python3"
  },
  "language_info": {
   "codemirror_mode": {
    "name": "ipython",
    "version": 3
   },
   "file_extension": ".py",
   "mimetype": "text/x-python",
   "name": "python",
   "nbconvert_exporter": "python",
   "pygments_lexer": "ipython3",
   "version": "3.9.7"
  }
 },
 "nbformat": 4,
 "nbformat_minor": 5
}
